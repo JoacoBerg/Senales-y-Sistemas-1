{
 "cells": [
  {
   "attachments": {},
   "cell_type": "markdown",
   "metadata": {},
   "source": [
    "# TPO 1 - Señales conocidas y sistemas\n",
    "\n",
    "**Ejercicio 1:**\n",
    "\n",
    "Desarrolle una serie de Scritps en el lunguaje de programación PYTHON, los cuales describan y grafiquen las siguientes funciones (señales conocidas) vistas en CLASE:"
   ]
  },
  {
   "attachments": {},
   "cell_type": "markdown",
   "metadata": {},
   "source": [
    "1. Señal Escalón Unitario en tiempo contínuo."
   ]
  },
  {
   "cell_type": "code",
   "execution_count": 3,
   "metadata": {},
   "outputs": [
    {
     "name": "stdout",
     "output_type": "stream",
     "text": [
      "tiempo: \n",
      "[-1.    -0.994 -0.988 -0.982 -0.976 -0.97  -0.964 -0.958 -0.952 -0.946\n",
      " -0.94  -0.934 -0.928 -0.922 -0.916 -0.91  -0.904 -0.898 -0.892 -0.886\n",
      " -0.88  -0.874 -0.868 -0.862 -0.856 -0.85  -0.844 -0.838 -0.832 -0.826\n",
      " -0.82  -0.814 -0.808 -0.802 -0.796 -0.79  -0.784 -0.778 -0.772 -0.766\n",
      " -0.76  -0.754 -0.748 -0.742 -0.736 -0.73  -0.724 -0.718 -0.712 -0.706\n",
      " -0.7   -0.694 -0.688 -0.682 -0.676 -0.67  -0.664 -0.658 -0.652 -0.646\n",
      " -0.64  -0.634 -0.628 -0.622 -0.616 -0.61  -0.604 -0.598 -0.592 -0.586\n",
      " -0.58  -0.574 -0.568 -0.562 -0.556 -0.55  -0.544 -0.538 -0.532 -0.526\n",
      " -0.52  -0.514 -0.508 -0.502 -0.496 -0.49  -0.484 -0.478 -0.472 -0.466\n",
      " -0.46  -0.454 -0.448 -0.442 -0.436 -0.43  -0.424 -0.418 -0.412 -0.406\n",
      " -0.4   -0.394 -0.388 -0.382 -0.376 -0.37  -0.364 -0.358 -0.352 -0.346\n",
      " -0.34  -0.334 -0.328 -0.322 -0.316 -0.31  -0.304 -0.298 -0.292 -0.286\n",
      " -0.28  -0.274 -0.268 -0.262 -0.256 -0.25  -0.244 -0.238 -0.232 -0.226\n",
      " -0.22  -0.214 -0.208 -0.202 -0.196 -0.19  -0.184 -0.178 -0.172 -0.166\n",
      " -0.16  -0.154 -0.148 -0.142 -0.136 -0.13  -0.124 -0.118 -0.112 -0.106\n",
      " -0.1   -0.094 -0.088 -0.082 -0.076 -0.07  -0.064 -0.058 -0.052 -0.046\n",
      " -0.04  -0.034 -0.028 -0.022 -0.016 -0.01  -0.004  0.002  0.008  0.014\n",
      "  0.02   0.026  0.032  0.038  0.044  0.05   0.056  0.062  0.068  0.074\n",
      "  0.08   0.086  0.092  0.098  0.104  0.11   0.116  0.122  0.128  0.134\n",
      "  0.14   0.146  0.152  0.158  0.164  0.17   0.176  0.182  0.188  0.194\n",
      "  0.2    0.206  0.212  0.218  0.224  0.23   0.236  0.242  0.248  0.254\n",
      "  0.26   0.266  0.272  0.278  0.284  0.29   0.296  0.302  0.308  0.314\n",
      "  0.32   0.326  0.332  0.338  0.344  0.35   0.356  0.362  0.368  0.374\n",
      "  0.38   0.386  0.392  0.398  0.404  0.41   0.416  0.422  0.428  0.434\n",
      "  0.44   0.446  0.452  0.458  0.464  0.47   0.476  0.482  0.488  0.494\n",
      "  0.5    0.506  0.512  0.518  0.524  0.53   0.536  0.542  0.548  0.554\n",
      "  0.56   0.566  0.572  0.578  0.584  0.59   0.596  0.602  0.608  0.614\n",
      "  0.62   0.626  0.632  0.638  0.644  0.65   0.656  0.662  0.668  0.674\n",
      "  0.68   0.686  0.692  0.698  0.704  0.71   0.716  0.722  0.728  0.734\n",
      "  0.74   0.746  0.752  0.758  0.764  0.77   0.776  0.782  0.788  0.794\n",
      "  0.8    0.806  0.812  0.818  0.824  0.83   0.836  0.842  0.848  0.854\n",
      "  0.86   0.866  0.872  0.878  0.884  0.89   0.896  0.902  0.908  0.914\n",
      "  0.92   0.926  0.932  0.938  0.944  0.95   0.956  0.962  0.968  0.974\n",
      "  0.98   0.986  0.992  0.998  1.004  1.01   1.016  1.022  1.028  1.034\n",
      "  1.04   1.046  1.052  1.058  1.064  1.07   1.076  1.082  1.088  1.094\n",
      "  1.1    1.106  1.112  1.118  1.124  1.13   1.136  1.142  1.148  1.154\n",
      "  1.16   1.166  1.172  1.178  1.184  1.19   1.196  1.202  1.208  1.214\n",
      "  1.22   1.226  1.232  1.238  1.244  1.25   1.256  1.262  1.268  1.274\n",
      "  1.28   1.286  1.292  1.298  1.304  1.31   1.316  1.322  1.328  1.334\n",
      "  1.34   1.346  1.352  1.358  1.364  1.37   1.376  1.382  1.388  1.394\n",
      "  1.4    1.406  1.412  1.418  1.424  1.43   1.436  1.442  1.448  1.454\n",
      "  1.46   1.466  1.472  1.478  1.484  1.49   1.496  1.502  1.508  1.514\n",
      "  1.52   1.526  1.532  1.538  1.544  1.55   1.556  1.562  1.568  1.574\n",
      "  1.58   1.586  1.592  1.598  1.604  1.61   1.616  1.622  1.628  1.634\n",
      "  1.64   1.646  1.652  1.658  1.664  1.67   1.676  1.682  1.688  1.694\n",
      "  1.7    1.706  1.712  1.718  1.724  1.73   1.736  1.742  1.748  1.754\n",
      "  1.76   1.766  1.772  1.778  1.784  1.79   1.796  1.802  1.808  1.814\n",
      "  1.82   1.826  1.832  1.838  1.844  1.85   1.856  1.862  1.868  1.874\n",
      "  1.88   1.886  1.892  1.898  1.904  1.91   1.916  1.922  1.928  1.934\n",
      "  1.94   1.946  1.952  1.958  1.964  1.97   1.976  1.982  1.988  1.994]\n",
      "señal: x(t) \n",
      "[0. 0. 0. 0. 0. 0. 0. 0. 0. 0. 0. 0. 0. 0. 0. 0. 0. 0. 0. 0. 0. 0. 0. 0.\n",
      " 0. 0. 0. 0. 0. 0. 0. 0. 0. 0. 0. 0. 0. 0. 0. 0. 0. 0. 0. 0. 0. 0. 0. 0.\n",
      " 0. 0. 0. 0. 0. 0. 0. 0. 0. 0. 0. 0. 0. 0. 0. 0. 0. 0. 0. 0. 0. 0. 0. 0.\n",
      " 0. 0. 0. 0. 0. 0. 0. 0. 0. 0. 0. 0. 0. 0. 0. 0. 0. 0. 0. 0. 0. 0. 0. 0.\n",
      " 0. 0. 0. 0. 0. 0. 0. 0. 0. 0. 0. 0. 0. 0. 0. 0. 0. 0. 0. 0. 0. 0. 0. 0.\n",
      " 0. 0. 0. 0. 0. 0. 0. 0. 0. 0. 0. 0. 0. 0. 0. 0. 0. 0. 0. 0. 0. 0. 0. 0.\n",
      " 0. 0. 0. 0. 0. 0. 0. 0. 0. 0. 0. 0. 0. 0. 0. 0. 0. 0. 0. 0. 0. 0. 0. 1.\n",
      " 1. 1. 1. 1. 1. 1. 1. 1. 1. 1. 1. 1. 1. 1. 1. 1. 1. 1. 1. 1. 1. 1. 1. 1.\n",
      " 1. 1. 1. 1. 1. 1. 1. 1. 1. 1. 1. 1. 1. 1. 1. 1. 1. 1. 1. 1. 1. 1. 1. 1.\n",
      " 1. 1. 1. 1. 1. 1. 1. 1. 1. 1. 1. 1. 1. 1. 1. 1. 1. 1. 1. 1. 1. 1. 1. 1.\n",
      " 1. 1. 1. 1. 1. 1. 1. 1. 1. 1. 1. 1. 1. 1. 1. 1. 1. 1. 1. 1. 1. 1. 1. 1.\n",
      " 1. 1. 1. 1. 1. 1. 1. 1. 1. 1. 1. 1. 1. 1. 1. 1. 1. 1. 1. 1. 1. 1. 1. 1.\n",
      " 1. 1. 1. 1. 1. 1. 1. 1. 1. 1. 1. 1. 1. 1. 1. 1. 1. 1. 1. 1. 1. 1. 1. 1.\n",
      " 1. 1. 1. 1. 1. 1. 1. 1. 1. 1. 1. 1. 1. 1. 1. 1. 1. 1. 1. 1. 1. 1. 0. 0.\n",
      " 0. 0. 0. 0. 0. 0. 0. 0. 0. 0. 0. 0. 0. 0. 0. 0. 0. 0. 0. 0. 0. 0. 0. 0.\n",
      " 0. 0. 0. 0. 0. 0. 0. 0. 0. 0. 0. 0. 0. 0. 0. 0. 0. 0. 0. 0. 0. 0. 0. 0.\n",
      " 0. 0. 0. 0. 0. 0. 0. 0. 0. 0. 0. 0. 0. 0. 0. 0. 0. 0. 0. 0. 0. 0. 0. 0.\n",
      " 0. 0. 0. 0. 0. 0. 0. 0. 0. 0. 0. 0. 0. 0. 0. 0. 0. 0. 0. 0. 0. 0. 0. 0.\n",
      " 0. 0. 0. 0. 0. 0. 0. 0. 0. 0. 0. 0. 0. 0. 0. 0. 0. 0. 0. 0. 0. 0. 0. 0.\n",
      " 0. 0. 0. 0. 0. 0. 0. 0. 0. 0. 0. 0. 0. 0. 0. 0. 0. 0. 0. 0. 0. 0. 0. 0.\n",
      " 0. 0. 0. 0. 0. 0. 0. 0. 0. 0. 0. 0. 0. 0. 0. 0. 0. 0. 0. 0.]\n"
     ]
    },
    {
     "data": {
      "image/png": "[encoded data removed]",
      "text/plain": [
       "<Figure size 640x480 with 1 Axes>"
      ]
     },
     "metadata": {},
     "output_type": "display_data"
    }
   ],
   "source": [
    "%run -i 'cajon-unitario-continuo.py'"
   ]
  }
 ],
 "metadata": {
  "kernelspec": {
   "display_name": "Python 3",
   "language": "python",
   "name": "python3"
  },
  "language_info": {
   "codemirror_mode": {
    "name": "ipython",
    "version": 3
   },
   "file_extension": ".py",
   "mimetype": "text/x-python",
   "name": "python",
   "nbconvert_exporter": "python",
   "pygments_lexer": "ipython3",
   "version": "3.11.3"
  },
  "orig_nbformat": 4
 },
 "nbformat": 4,
 "nbformat_minor": 2
}
