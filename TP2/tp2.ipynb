{
 "cells": [
  {
   "attachments": {},
   "cell_type": "markdown",
   "metadata": {},
   "source": [
    "# TPO 2 - Sistemas lineales y no lineales\n",
    "\n",
    "### Ejercicio 1\n",
    "Desarrolle una serie de Scripts en el lenguaje de programación PYTHON, los cuales describan y grafiquen las siguientes funciones de los Sistemas Causales y no causales en el tiempo, vistos en clase:\n",
    "\n",
    "1. Sistemas variables en el tiempo."
   ]
  },
  {
   "attachments": {},
   "cell_type": "markdown",
   "metadata": {},
   "source": [
    "2. Sistemas invariantes en el tiempo.\n"
   ]
  },
  {
   "attachments": {},
   "cell_type": "markdown",
   "metadata": {},
   "source": [
    "3. Sistemas con desplazamiento en el tiempo."
   ]
  },
  {
   "attachments": {},
   "cell_type": "markdown",
   "metadata": {},
   "source": [
    "4. Sistemas con desplazamiento e inversión en el tiempo."
   ]
  },
  {
   "attachments": {},
   "cell_type": "markdown",
   "metadata": {},
   "source": [
    "5. Sistemas con entradas escaladas."
   ]
  },
  {
   "attachments": {},
   "cell_type": "markdown",
   "metadata": {},
   "source": [
    "6. Sistemas con entradas sumadas."
   ]
  },
  {
   "attachments": {},
   "cell_type": "markdown",
   "metadata": {},
   "source": [
    "7. Sistemas con entradas escaladas y sumadas."
   ]
  }
 ],
 "metadata": {
  "language_info": {
   "name": "python"
  },
  "orig_nbformat": 4
 },
 "nbformat": 4,
 "nbformat_minor": 2
}
